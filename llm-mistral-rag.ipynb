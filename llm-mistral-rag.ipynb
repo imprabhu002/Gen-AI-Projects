{
 "metadata": {
  "colab": {
   "provenance": [],
   "machine_shape": "hm"
  },
  "kernelspec": {
   "name": "python3",
   "display_name": "Python 3",
   "language": "python"
  },
  "language_info": {
   "name": "python",
   "version": "3.10.13",
   "mimetype": "text/x-python",
   "codemirror_mode": {
    "name": "ipython",
    "version": 3
   },
   "pygments_lexer": "ipython3",
   "nbconvert_exporter": "python",
   "file_extension": ".py"
  },
  "kaggle": {
   "accelerator": "tpu1vmV38",
   "dataSources": [
    {
     "sourceId": 61542,
     "databundleVersionId": 6888007,
     "sourceType": "competition"
    },
    {
     "sourceId": 7017419,
     "sourceType": "datasetVersion",
     "datasetId": 3937250
    },
    {
     "sourceId": 5112,
     "sourceType": "modelInstanceVersion",
     "isSourceIdPinned": true,
     "modelInstanceId": 3900
    }
   ],
   "dockerImageVersionId": 30587,
   "isInternetEnabled": true,
   "language": "python",
   "sourceType": "notebook",
   "isGpuEnabled": false
  }
 },
 "nbformat_minor": 4,
 "nbformat": 4,
 "cells": [
  {
   "cell_type": "markdown",
   "source": [
    "# Purpose:\n",
    "\n",
    "Update: LLM (Mistral quotes facts stated in gpt4 summaries which imo is higher quality data.\n",
    "\n",
    "The purpose if this notebook is to get a list of prompts mapped with instructions and GPT4Summaries.\n",
    "\n",
    "GPT4Summaries are extracted from persuade 2 corpus ([Check out this notebook on analysis behind this](https://www.kaggle.com/code/nbroad/persuade-train-essays-analysis/data)).\n",
    "\n",
    "The intuition is that a student summarizes the given supplemental article before writing the essay according to the instructions provided.\n",
    "\n",
    "Note: I know they don't use these to generate data in the competition...but I'm hoping this will give us better quality data."
   ],
   "metadata": {}
  },
  {
   "cell_type": "code",
   "source": [
    "from pandas import read_csv, concat\n",
    "\n",
    "train_essays = read_csv('/kaggle/input/llm-detect-ai-generated-text/train_essays.csv', chunksize=10000)\n",
    "train_essays = concat(train_essays)\n",
    "\n",
    "train_prompts = read_csv('/kaggle/input/llm-detect-ai-generated-text/train_prompts.csv', chunksize=10000)\n",
    "train_prompts = concat(train_prompts)\n",
    "\n",
    "test_essays = read_csv('/kaggle/input/llm-detect-ai-generated-text/test_essays.csv', chunksize=10000)\n",
    "test_essays = concat(test_essays)"
   ],
   "metadata": {
    "id": "nYk0JIkpBbs8",
    "execution": {
     "iopub.status.busy": "2023-12-11T10:59:36.177133Z",
     "iopub.execute_input": "2023-12-11T10:59:36.177780Z",
     "iopub.status.idle": "2023-12-11T10:59:37.157581Z",
     "shell.execute_reply.started": "2023-12-11T10:59:36.177739Z",
     "shell.execute_reply": "2023-12-11T10:59:37.156747Z"
    },
    "trusted": true
   },
   "execution_count": 1,
   "outputs": []
  },
  {
   "cell_type": "code",
   "source": [
    "train_essays.text.str.len().describe()"
   ],
   "metadata": {
    "execution": {
     "iopub.status.busy": "2023-12-11T10:59:37.158991Z",
     "iopub.execute_input": "2023-12-11T10:59:37.159273Z",
     "iopub.status.idle": "2023-12-11T10:59:37.170558Z",
     "shell.execute_reply.started": "2023-12-11T10:59:37.159247Z",
     "shell.execute_reply": "2023-12-11T10:59:37.169962Z"
    },
    "trusted": true
   },
   "execution_count": 2,
   "outputs": [
    {
     "execution_count": 2,
     "output_type": "execute_result",
     "data": {
      "text/plain": "count    1378.000000\nmean     3169.050798\nstd       920.588198\nmin      1356.000000\n25%      2554.250000\n50%      2985.500000\n75%      3623.750000\nmax      8436.000000\nName: text, dtype: float64"
     },
     "metadata": {}
    }
   ]
  },
  {
   "cell_type": "code",
   "source": [
    "train_essays.head()"
   ],
   "metadata": {
    "id": "0iA1cbkXDXbM",
    "outputId": "a3bd09fb-a350-4a34-b4a1-60c5069278f4",
    "execution": {
     "iopub.status.busy": "2023-12-11T10:59:37.171347Z",
     "iopub.execute_input": "2023-12-11T10:59:37.171591Z",
     "iopub.status.idle": "2023-12-11T10:59:37.189993Z",
     "shell.execute_reply.started": "2023-12-11T10:59:37.171564Z",
     "shell.execute_reply": "2023-12-11T10:59:37.189374Z"
    },
    "trusted": true
   },
   "execution_count": 3,
   "outputs": [
    {
     "execution_count": 3,
     "output_type": "execute_result",
     "data": {
      "text/plain": "         id  prompt_id                                               text  \\\n0  0059830c          0  Cars. Cars have been around since they became ...   \n1  005db917          0  Transportation is a large necessity in most co...   \n2  008f63e3          0  \"America's love affair with it's vehicles seem...   \n3  00940276          0  How often do you ride in a car? Do you drive a...   \n4  00c39458          0  Cars are a wonderful thing. They are perhaps o...   \n\n   generated  \n0          0  \n1          0  \n2          0  \n3          0  \n4          0  ",
      "text/html": "<div>\n<style scoped>\n    .dataframe tbody tr th:only-of-type {\n        vertical-align: middle;\n    }\n\n    .dataframe tbody tr th {\n        vertical-align: top;\n    }\n\n    .dataframe thead th {\n        text-align: right;\n    }\n</style>\n<table border=\"1\" class=\"dataframe\">\n  <thead>\n    <tr style=\"text-align: right;\">\n      <th></th>\n      <th>id</th>\n      <th>prompt_id</th>\n      <th>text</th>\n      <th>generated</th>\n    </tr>\n  </thead>\n  <tbody>\n    <tr>\n      <th>0</th>\n      <td>0059830c</td>\n      <td>0</td>\n      <td>Cars. Cars have been around since they became ...</td>\n      <td>0</td>\n    </tr>\n    <tr>\n      <th>1</th>\n      <td>005db917</td>\n      <td>0</td>\n      <td>Transportation is a large necessity in most co...</td>\n      <td>0</td>\n    </tr>\n    <tr>\n      <th>2</th>\n      <td>008f63e3</td>\n      <td>0</td>\n      <td>\"America's love affair with it's vehicles seem...</td>\n      <td>0</td>\n    </tr>\n    <tr>\n      <th>3</th>\n      <td>00940276</td>\n      <td>0</td>\n      <td>How often do you ride in a car? Do you drive a...</td>\n      <td>0</td>\n    </tr>\n    <tr>\n      <th>4</th>\n      <td>00c39458</td>\n      <td>0</td>\n      <td>Cars are a wonderful thing. They are perhaps o...</td>\n      <td>0</td>\n    </tr>\n  </tbody>\n</table>\n</div>"
     },
     "metadata": {}
    }
   ]
  },
  {
   "cell_type": "code",
   "source": [
    "train_prompts.head()"
   ],
   "metadata": {
    "id": "qa0_S-dzDavI",
    "outputId": "f416fda7-47c6-4540-b072-05244aad09d9",
    "execution": {
     "iopub.status.busy": "2023-12-11T10:59:37.190925Z",
     "iopub.execute_input": "2023-12-11T10:59:37.191235Z",
     "iopub.status.idle": "2023-12-11T10:59:37.198992Z",
     "shell.execute_reply.started": "2023-12-11T10:59:37.191193Z",
     "shell.execute_reply": "2023-12-11T10:59:37.198477Z"
    },
    "trusted": true
   },
   "execution_count": 4,
   "outputs": [
    {
     "execution_count": 4,
     "output_type": "execute_result",
     "data": {
      "text/plain": "   prompt_id                       prompt_name  \\\n0          0                   Car-free cities   \n1          1  Does the electoral college work?   \n\n                                        instructions  \\\n0  Write an explanatory essay to inform fellow ci...   \n1  Write a letter to your state senator in which ...   \n\n                                         source_text  \n0  # In German Suburb, Life Goes On Without Cars ...  \n1  # What Is the Electoral College? by the Office...  ",
      "text/html": "<div>\n<style scoped>\n    .dataframe tbody tr th:only-of-type {\n        vertical-align: middle;\n    }\n\n    .dataframe tbody tr th {\n        vertical-align: top;\n    }\n\n    .dataframe thead th {\n        text-align: right;\n    }\n</style>\n<table border=\"1\" class=\"dataframe\">\n  <thead>\n    <tr style=\"text-align: right;\">\n      <th></th>\n      <th>prompt_id</th>\n      <th>prompt_name</th>\n      <th>instructions</th>\n      <th>source_text</th>\n    </tr>\n  </thead>\n  <tbody>\n    <tr>\n      <th>0</th>\n      <td>0</td>\n      <td>Car-free cities</td>\n      <td>Write an explanatory essay to inform fellow ci...</td>\n      <td># In German Suburb, Life Goes On Without Cars ...</td>\n    </tr>\n    <tr>\n      <th>1</th>\n      <td>1</td>\n      <td>Does the electoral college work?</td>\n      <td>Write a letter to your state senator in which ...</td>\n      <td># What Is the Electoral College? by the Office...</td>\n    </tr>\n  </tbody>\n</table>\n</div>"
     },
     "metadata": {}
    }
   ]
  },
  {
   "cell_type": "code",
   "source": [
    "test_essays.head()"
   ],
   "metadata": {
    "id": "Gg4ol_JEDn-t",
    "outputId": "50f51639-4083-44f5-af67-5c18f2fcb9ea",
    "execution": {
     "iopub.status.busy": "2023-12-11T10:59:37.201260Z",
     "iopub.execute_input": "2023-12-11T10:59:37.201501Z",
     "iopub.status.idle": "2023-12-11T10:59:37.212837Z",
     "shell.execute_reply.started": "2023-12-11T10:59:37.201476Z",
     "shell.execute_reply": "2023-12-11T10:59:37.212245Z"
    },
    "trusted": true
   },
   "execution_count": 5,
   "outputs": [
    {
     "execution_count": 5,
     "output_type": "execute_result",
     "data": {
      "text/plain": "         id  prompt_id          text\n0  0000aaaa          2  Aaa bbb ccc.\n1  1111bbbb          3  Bbb ccc ddd.\n2  2222cccc          4  CCC ddd eee.",
      "text/html": "<div>\n<style scoped>\n    .dataframe tbody tr th:only-of-type {\n        vertical-align: middle;\n    }\n\n    .dataframe tbody tr th {\n        vertical-align: top;\n    }\n\n    .dataframe thead th {\n        text-align: right;\n    }\n</style>\n<table border=\"1\" class=\"dataframe\">\n  <thead>\n    <tr style=\"text-align: right;\">\n      <th></th>\n      <th>id</th>\n      <th>prompt_id</th>\n      <th>text</th>\n    </tr>\n  </thead>\n  <tbody>\n    <tr>\n      <th>0</th>\n      <td>0000aaaa</td>\n      <td>2</td>\n      <td>Aaa bbb ccc.</td>\n    </tr>\n    <tr>\n      <th>1</th>\n      <td>1111bbbb</td>\n      <td>3</td>\n      <td>Bbb ccc ddd.</td>\n    </tr>\n    <tr>\n      <th>2</th>\n      <td>2222cccc</td>\n      <td>4</td>\n      <td>CCC ddd eee.</td>\n    </tr>\n  </tbody>\n</table>\n</div>"
     },
     "metadata": {}
    }
   ]
  },
  {
   "cell_type": "code",
   "source": [
    "print(train_prompts.iloc[0].instructions.replace('. ', '.\\n'))"
   ],
   "metadata": {
    "id": "a2qKHT5rFnJm",
    "outputId": "60bc2e40-edeb-4082-bdf7-af8cb4b4f4ca",
    "execution": {
     "iopub.status.busy": "2023-12-11T10:59:37.213699Z",
     "iopub.execute_input": "2023-12-11T10:59:37.213942Z",
     "iopub.status.idle": "2023-12-11T10:59:37.223736Z",
     "shell.execute_reply.started": "2023-12-11T10:59:37.213903Z",
     "shell.execute_reply": "2023-12-11T10:59:37.223000Z"
    },
    "trusted": true
   },
   "execution_count": 6,
   "outputs": [
    {
     "name": "stdout",
     "text": "Write an explanatory essay to inform fellow citizens about the advantages of limiting car usage.\nYour essay must be based on ideas and information that can be found in the passage set.\nManage your time carefully so that you can read the passages; plan your response; write your response; and revise and edit your response.\nBe sure to use evidence from multiple sources; and avoid overly relying on one source.\nYour response should be in the form of a multiparagraph essay.\nWrite your essay in the space provided.\n",
     "output_type": "stream"
    }
   ]
  },
  {
   "cell_type": "code",
   "source": [
    "persuade1 = read_csv('/kaggle/input/persaude-corpus-2/persuade_corpus_1.0.csv', chunksize=10000)\n",
    "persuade1 = concat(persuade1)\n",
    "persuade2 = read_csv('/kaggle/input/persaude-corpus-2/persuade_2.0_human_scores_demo_id_github.csv', chunksize=10000)\n",
    "persuade2 = concat(persuade2)"
   ],
   "metadata": {
    "id": "VvIM8pa0K2bu",
    "execution": {
     "iopub.status.busy": "2023-12-11T10:59:37.224544Z",
     "iopub.execute_input": "2023-12-11T10:59:37.224772Z",
     "iopub.status.idle": "2023-12-11T10:59:51.309931Z",
     "shell.execute_reply.started": "2023-12-11T10:59:37.224747Z",
     "shell.execute_reply": "2023-12-11T10:59:51.309236Z"
    },
    "trusted": true
   },
   "execution_count": 7,
   "outputs": []
  },
  {
   "cell_type": "code",
   "source": [
    "persuade2.head()"
   ],
   "metadata": {
    "id": "yS1ep307LMm-",
    "outputId": "5cb9830b-f1c9-408a-9aad-630b451d69de",
    "execution": {
     "iopub.status.busy": "2023-12-11T10:59:51.310819Z",
     "iopub.execute_input": "2023-12-11T10:59:51.311052Z",
     "iopub.status.idle": "2023-12-11T10:59:51.323319Z",
     "shell.execute_reply.started": "2023-12-11T10:59:51.311027Z",
     "shell.execute_reply": "2023-12-11T10:59:51.322696Z"
    },
    "trusted": true
   },
   "execution_count": 8,
   "outputs": [
    {
     "execution_count": 8,
     "output_type": "execute_result",
     "data": {
      "text/plain": "  essay_id_comp                                          full_text  \\\n0  423A1CA112E2  Phones\\n\\nModern humans today are always on th...   \n1  BC75783F96E3  This essay will explain if drivers should or s...   \n2  74C8BC7417DE  Driving while the use of cellular devices\\n\\nT...   \n3  A8445CABFECE  Phones & Driving\\n\\nDrivers should not be able...   \n4  6B4F7A0165B9  Cell Phone Operation While Driving\\n\\nThe abil...   \n\n   holistic_essay_score  word_count         prompt_name         task  \\\n0                     3         378  Phones and driving  Independent   \n1                     4         432  Phones and driving  Independent   \n2                     2         179  Phones and driving  Independent   \n3                     3         221  Phones and driving  Independent   \n4                     4         334  Phones and driving  Independent   \n\n                                          assignment source_text gender  \\\n0  Today the majority of humans own and operate c...         NaN      M   \n1  Today the majority of humans own and operate c...         NaN      M   \n2  Today the majority of humans own and operate c...         NaN      F   \n3  Today the majority of humans own and operate c...         NaN      M   \n4  Today the majority of humans own and operate c...         NaN      M   \n\n   grade_level ell_status          race_ethnicity economically_disadvantaged  \\\n0          NaN        NaN  Black/African American                        NaN   \n1          NaN        NaN  Black/African American                        NaN   \n2          NaN        NaN                   White                        NaN   \n3          NaN        NaN  Black/African American                        NaN   \n4          NaN        NaN                   White                        NaN   \n\n  student_disability_status  \n0                       NaN  \n1                       NaN  \n2                       NaN  \n3                       NaN  \n4                       NaN  ",
      "text/html": "<div>\n<style scoped>\n    .dataframe tbody tr th:only-of-type {\n        vertical-align: middle;\n    }\n\n    .dataframe tbody tr th {\n        vertical-align: top;\n    }\n\n    .dataframe thead th {\n        text-align: right;\n    }\n</style>\n<table border=\"1\" class=\"dataframe\">\n  <thead>\n    <tr style=\"text-align: right;\">\n      <th></th>\n      <th>essay_id_comp</th>\n      <th>full_text</th>\n      <th>holistic_essay_score</th>\n      <th>word_count</th>\n      <th>prompt_name</th>\n      <th>task</th>\n      <th>assignment</th>\n      <th>source_text</th>\n      <th>gender</th>\n      <th>grade_level</th>\n      <th>ell_status</th>\n      <th>race_ethnicity</th>\n      <th>economically_disadvantaged</th>\n      <th>student_disability_status</th>\n    </tr>\n  </thead>\n  <tbody>\n    <tr>\n      <th>0</th>\n      <td>423A1CA112E2</td>\n      <td>Phones\\n\\nModern humans today are always on th...</td>\n      <td>3</td>\n      <td>378</td>\n      <td>Phones and driving</td>\n      <td>Independent</td>\n      <td>Today the majority of humans own and operate c...</td>\n      <td>NaN</td>\n      <td>M</td>\n      <td>NaN</td>\n      <td>NaN</td>\n      <td>Black/African American</td>\n      <td>NaN</td>\n      <td>NaN</td>\n    </tr>\n    <tr>\n      <th>1</th>\n      <td>BC75783F96E3</td>\n      <td>This essay will explain if drivers should or s...</td>\n      <td>4</td>\n      <td>432</td>\n      <td>Phones and driving</td>\n      <td>Independent</td>\n      <td>Today the majority of humans own and operate c...</td>\n      <td>NaN</td>\n      <td>M</td>\n      <td>NaN</td>\n      <td>NaN</td>\n      <td>Black/African American</td>\n      <td>NaN</td>\n      <td>NaN</td>\n    </tr>\n    <tr>\n      <th>2</th>\n      <td>74C8BC7417DE</td>\n      <td>Driving while the use of cellular devices\\n\\nT...</td>\n      <td>2</td>\n      <td>179</td>\n      <td>Phones and driving</td>\n      <td>Independent</td>\n      <td>Today the majority of humans own and operate c...</td>\n      <td>NaN</td>\n      <td>F</td>\n      <td>NaN</td>\n      <td>NaN</td>\n      <td>White</td>\n      <td>NaN</td>\n      <td>NaN</td>\n    </tr>\n    <tr>\n      <th>3</th>\n      <td>A8445CABFECE</td>\n      <td>Phones &amp; Driving\\n\\nDrivers should not be able...</td>\n      <td>3</td>\n      <td>221</td>\n      <td>Phones and driving</td>\n      <td>Independent</td>\n      <td>Today the majority of humans own and operate c...</td>\n      <td>NaN</td>\n      <td>M</td>\n      <td>NaN</td>\n      <td>NaN</td>\n      <td>Black/African American</td>\n      <td>NaN</td>\n      <td>NaN</td>\n    </tr>\n    <tr>\n      <th>4</th>\n      <td>6B4F7A0165B9</td>\n      <td>Cell Phone Operation While Driving\\n\\nThe abil...</td>\n      <td>4</td>\n      <td>334</td>\n      <td>Phones and driving</td>\n      <td>Independent</td>\n      <td>Today the majority of humans own and operate c...</td>\n      <td>NaN</td>\n      <td>M</td>\n      <td>NaN</td>\n      <td>NaN</td>\n      <td>White</td>\n      <td>NaN</td>\n      <td>NaN</td>\n    </tr>\n  </tbody>\n</table>\n</div>"
     },
     "metadata": {}
    }
   ]
  },
  {
   "cell_type": "code",
   "source": [
    "persuade2.essay_id_comp.size"
   ],
   "metadata": {
    "id": "LFPrsXiMMMQ_",
    "outputId": "7aa022bf-1444-435a-f366-b151366c9b22",
    "execution": {
     "iopub.status.busy": "2023-12-11T10:59:51.324376Z",
     "iopub.execute_input": "2023-12-11T10:59:51.324637Z",
     "iopub.status.idle": "2023-12-11T10:59:51.338461Z",
     "shell.execute_reply.started": "2023-12-11T10:59:51.324611Z",
     "shell.execute_reply": "2023-12-11T10:59:51.337853Z"
    },
    "trusted": true
   },
   "execution_count": 9,
   "outputs": [
    {
     "execution_count": 9,
     "output_type": "execute_result",
     "data": {
      "text/plain": "25996"
     },
     "metadata": {}
    }
   ]
  },
  {
   "cell_type": "code",
   "source": [
    "persuade2.word_count.describe()"
   ],
   "metadata": {
    "execution": {
     "iopub.status.busy": "2023-12-11T10:59:51.339394Z",
     "iopub.execute_input": "2023-12-11T10:59:51.339622Z",
     "iopub.status.idle": "2023-12-11T10:59:51.353134Z",
     "shell.execute_reply.started": "2023-12-11T10:59:51.339597Z",
     "shell.execute_reply": "2023-12-11T10:59:51.352473Z"
    },
    "trusted": true
   },
   "execution_count": 10,
   "outputs": [
    {
     "execution_count": 10,
     "output_type": "execute_result",
     "data": {
      "text/plain": "count    25996.000000\nmean       418.129635\nstd        275.110310\nmin        146.000000\n25%        269.000000\n50%        375.000000\n75%        511.000000\nmax      14818.000000\nName: word_count, dtype: float64"
     },
     "metadata": {}
    }
   ]
  },
  {
   "cell_type": "code",
   "source": [
    "persuade2.holistic_essay_score.describe()"
   ],
   "metadata": {
    "id": "G2c1yxWPMZUk",
    "outputId": "c90029d5-5a3f-47f8-f12d-fc0556e800d8",
    "execution": {
     "iopub.status.busy": "2023-12-11T10:59:51.354006Z",
     "iopub.execute_input": "2023-12-11T10:59:51.354386Z",
     "iopub.status.idle": "2023-12-11T10:59:51.362877Z",
     "shell.execute_reply.started": "2023-12-11T10:59:51.354355Z",
     "shell.execute_reply": "2023-12-11T10:59:51.362223Z"
    },
    "trusted": true
   },
   "execution_count": 11,
   "outputs": [
    {
     "execution_count": 11,
     "output_type": "execute_result",
     "data": {
      "text/plain": "count    25996.000000\nmean         3.315010\nstd          1.160473\nmin          1.000000\n25%          2.000000\n50%          3.000000\n75%          4.000000\nmax          6.000000\nName: holistic_essay_score, dtype: float64"
     },
     "metadata": {}
    }
   ]
  },
  {
   "cell_type": "code",
   "source": [
    "instructions = persuade2.drop_duplicates(subset=['essay_id_comp']).reset_index(drop=True)[['holistic_essay_score', 'prompt_name', 'assignment']]"
   ],
   "metadata": {
    "id": "dkFImxDZLoBB",
    "execution": {
     "iopub.status.busy": "2023-12-11T10:59:51.363734Z",
     "iopub.execute_input": "2023-12-11T10:59:51.363989Z",
     "iopub.status.idle": "2023-12-11T10:59:51.393134Z",
     "shell.execute_reply.started": "2023-12-11T10:59:51.363961Z",
     "shell.execute_reply": "2023-12-11T10:59:51.392436Z"
    },
    "trusted": true
   },
   "execution_count": 12,
   "outputs": []
  },
  {
   "cell_type": "code",
   "source": [
    "instructions = instructions.drop_duplicates(subset=['prompt_name', 'assignment']).reset_index(drop=True)"
   ],
   "metadata": {
    "id": "vmusu2QdM5lk",
    "execution": {
     "iopub.status.busy": "2023-12-11T10:59:51.394004Z",
     "iopub.execute_input": "2023-12-11T10:59:51.394250Z",
     "iopub.status.idle": "2023-12-11T10:59:51.412747Z",
     "shell.execute_reply.started": "2023-12-11T10:59:51.394224Z",
     "shell.execute_reply": "2023-12-11T10:59:51.412102Z"
    },
    "trusted": true
   },
   "execution_count": 13,
   "outputs": []
  },
  {
   "cell_type": "code",
   "source": [
    "sources = read_csv('/kaggle/input/persaude-corpus-2/sources.csv', chunksize=10000)\n",
    "sources = concat(sources)"
   ],
   "metadata": {
    "id": "q7x3LhVKJeAw",
    "execution": {
     "iopub.status.busy": "2023-12-11T10:59:51.416018Z",
     "iopub.execute_input": "2023-12-11T10:59:51.416388Z",
     "iopub.status.idle": "2023-12-11T10:59:51.426550Z",
     "shell.execute_reply.started": "2023-12-11T10:59:51.416356Z",
     "shell.execute_reply": "2023-12-11T10:59:51.425748Z"
    },
    "trusted": true
   },
   "execution_count": 14,
   "outputs": []
  },
  {
   "cell_type": "code",
   "source": [
    "sources.head()"
   ],
   "metadata": {
    "id": "kjCPaGMLJkt3",
    "outputId": "5c513b66-5c79-4e40-e0f4-13bff66b3674",
    "execution": {
     "iopub.status.busy": "2023-12-11T10:59:51.427504Z",
     "iopub.execute_input": "2023-12-11T10:59:51.427773Z",
     "iopub.status.idle": "2023-12-11T10:59:51.436865Z",
     "shell.execute_reply.started": "2023-12-11T10:59:51.427743Z",
     "shell.execute_reply": "2023-12-11T10:59:51.436205Z"
    },
    "trusted": true
   },
   "execution_count": 15,
   "outputs": [
    {
     "execution_count": 15,
     "output_type": "execute_result",
     "data": {
      "text/plain": "                        prompt_name  \\\n0                   Car-free cities   \n1                   Car-free cities   \n2                   Car-free cities   \n3                   Car-free cities   \n4  Does the electoral college work?   \n\n                                               title  \\\n0        In German Suburb, Life Goes On Without Cars   \n1                     Paris bans driving due to smog   \n2  Car-free day is spinning into a big hit in Bogota   \n3                             The end of car culture   \n4                     What is the Electoral College?   \n\n                               author  \\\n0                 Elisabeth Rosenthal   \n1                       Robert Duffer   \n2                       Andrew Selsky   \n3                 Elisabeth Rosenthal   \n4  The Office of the Federal Register   \n\n                                                 url  \\\n0  https://www.nytimes.com/2009/05/12/science/ear...   \n1  https://scoringguides.cambiumast.com/pdfs/Grad...   \n2  https://scoringguides.cambiumast.com/pdfs/Grad...   \n3  https://www.nytimes.com/2013/06/30/sunday-revi...   \n4   https://www.archives.gov/electoral-college/about   \n\n                                        gpt4_summary  \n0  Vauban, an experimental district near Freiburg...  \n1  Paris faced severe pollution, prompting a part...  \n2  In Bogotá, Colombia, a successful \"Day Without...  \n3  President Obama's goals to reduce greenhouse g...  \n4  The Electoral College, established in the U.S....  ",
      "text/html": "<div>\n<style scoped>\n    .dataframe tbody tr th:only-of-type {\n        vertical-align: middle;\n    }\n\n    .dataframe tbody tr th {\n        vertical-align: top;\n    }\n\n    .dataframe thead th {\n        text-align: right;\n    }\n</style>\n<table border=\"1\" class=\"dataframe\">\n  <thead>\n    <tr style=\"text-align: right;\">\n      <th></th>\n      <th>prompt_name</th>\n      <th>title</th>\n      <th>author</th>\n      <th>url</th>\n      <th>gpt4_summary</th>\n    </tr>\n  </thead>\n  <tbody>\n    <tr>\n      <th>0</th>\n      <td>Car-free cities</td>\n      <td>In German Suburb, Life Goes On Without Cars</td>\n      <td>Elisabeth Rosenthal</td>\n      <td>https://www.nytimes.com/2009/05/12/science/ear...</td>\n      <td>Vauban, an experimental district near Freiburg...</td>\n    </tr>\n    <tr>\n      <th>1</th>\n      <td>Car-free cities</td>\n      <td>Paris bans driving due to smog</td>\n      <td>Robert Duffer</td>\n      <td>https://scoringguides.cambiumast.com/pdfs/Grad...</td>\n      <td>Paris faced severe pollution, prompting a part...</td>\n    </tr>\n    <tr>\n      <th>2</th>\n      <td>Car-free cities</td>\n      <td>Car-free day is spinning into a big hit in Bogota</td>\n      <td>Andrew Selsky</td>\n      <td>https://scoringguides.cambiumast.com/pdfs/Grad...</td>\n      <td>In Bogotá, Colombia, a successful \"Day Without...</td>\n    </tr>\n    <tr>\n      <th>3</th>\n      <td>Car-free cities</td>\n      <td>The end of car culture</td>\n      <td>Elisabeth Rosenthal</td>\n      <td>https://www.nytimes.com/2013/06/30/sunday-revi...</td>\n      <td>President Obama's goals to reduce greenhouse g...</td>\n    </tr>\n    <tr>\n      <th>4</th>\n      <td>Does the electoral college work?</td>\n      <td>What is the Electoral College?</td>\n      <td>The Office of the Federal Register</td>\n      <td>https://www.archives.gov/electoral-college/about</td>\n      <td>The Electoral College, established in the U.S....</td>\n    </tr>\n  </tbody>\n</table>\n</div>"
     },
     "metadata": {}
    }
   ]
  },
  {
   "cell_type": "code",
   "source": [
    "sources = sources[['prompt_name', 'gpt4_summary']]"
   ],
   "metadata": {
    "id": "B8TMOfzDJr9z",
    "execution": {
     "iopub.status.busy": "2023-12-11T10:59:51.437759Z",
     "iopub.execute_input": "2023-12-11T10:59:51.438023Z",
     "iopub.status.idle": "2023-12-11T10:59:51.447218Z",
     "shell.execute_reply.started": "2023-12-11T10:59:51.437994Z",
     "shell.execute_reply": "2023-12-11T10:59:51.446574Z"
    },
    "trusted": true
   },
   "execution_count": 16,
   "outputs": []
  },
  {
   "cell_type": "code",
   "source": [
    "sources.head()"
   ],
   "metadata": {
    "id": "IS7T6s5_KWFX",
    "outputId": "6415afac-f015-4ff5-e939-71dc7912eb04",
    "execution": {
     "iopub.status.busy": "2023-12-11T10:59:51.448112Z",
     "iopub.execute_input": "2023-12-11T10:59:51.448398Z",
     "iopub.status.idle": "2023-12-11T10:59:51.460726Z",
     "shell.execute_reply.started": "2023-12-11T10:59:51.448369Z",
     "shell.execute_reply": "2023-12-11T10:59:51.460097Z"
    },
    "trusted": true
   },
   "execution_count": 17,
   "outputs": [
    {
     "execution_count": 17,
     "output_type": "execute_result",
     "data": {
      "text/plain": "                        prompt_name  \\\n0                   Car-free cities   \n1                   Car-free cities   \n2                   Car-free cities   \n3                   Car-free cities   \n4  Does the electoral college work?   \n\n                                        gpt4_summary  \n0  Vauban, an experimental district near Freiburg...  \n1  Paris faced severe pollution, prompting a part...  \n2  In Bogotá, Colombia, a successful \"Day Without...  \n3  President Obama's goals to reduce greenhouse g...  \n4  The Electoral College, established in the U.S....  ",
      "text/html": "<div>\n<style scoped>\n    .dataframe tbody tr th:only-of-type {\n        vertical-align: middle;\n    }\n\n    .dataframe tbody tr th {\n        vertical-align: top;\n    }\n\n    .dataframe thead th {\n        text-align: right;\n    }\n</style>\n<table border=\"1\" class=\"dataframe\">\n  <thead>\n    <tr style=\"text-align: right;\">\n      <th></th>\n      <th>prompt_name</th>\n      <th>gpt4_summary</th>\n    </tr>\n  </thead>\n  <tbody>\n    <tr>\n      <th>0</th>\n      <td>Car-free cities</td>\n      <td>Vauban, an experimental district near Freiburg...</td>\n    </tr>\n    <tr>\n      <th>1</th>\n      <td>Car-free cities</td>\n      <td>Paris faced severe pollution, prompting a part...</td>\n    </tr>\n    <tr>\n      <th>2</th>\n      <td>Car-free cities</td>\n      <td>In Bogotá, Colombia, a successful \"Day Without...</td>\n    </tr>\n    <tr>\n      <th>3</th>\n      <td>Car-free cities</td>\n      <td>President Obama's goals to reduce greenhouse g...</td>\n    </tr>\n    <tr>\n      <th>4</th>\n      <td>Does the electoral college work?</td>\n      <td>The Electoral College, established in the U.S....</td>\n    </tr>\n  </tbody>\n</table>\n</div>"
     },
     "metadata": {}
    }
   ]
  },
  {
   "cell_type": "code",
   "source": [
    "sources.prompt_name.unique()"
   ],
   "metadata": {
    "id": "7VQDpbsaKsZN",
    "outputId": "7326eab9-f392-4840-fce6-7f5e7c49fc3d",
    "execution": {
     "iopub.status.busy": "2023-12-11T10:59:51.461631Z",
     "iopub.execute_input": "2023-12-11T10:59:51.461887Z",
     "iopub.status.idle": "2023-12-11T10:59:51.471334Z",
     "shell.execute_reply.started": "2023-12-11T10:59:51.461858Z",
     "shell.execute_reply": "2023-12-11T10:59:51.470636Z"
    },
    "trusted": true
   },
   "execution_count": 18,
   "outputs": [
    {
     "execution_count": 18,
     "output_type": "execute_result",
     "data": {
      "text/plain": "array(['Car-free cities', 'Does the electoral college work?',\n       'Exploring Venus', 'The Face on Mars',\n       'Facial action coding system', '\"A Cowboy Who Rode the Waves\"',\n       'Driverless cars'], dtype=object)"
     },
     "metadata": {}
    }
   ]
  },
  {
   "cell_type": "code",
   "source": [
    "instructions = instructions.query('prompt_name in @sources.prompt_name.unique()').drop(columns=['holistic_essay_score']).reset_index(drop=True)"
   ],
   "metadata": {
    "id": "Dnr43WAbNSM-",
    "execution": {
     "iopub.status.busy": "2023-12-11T10:59:51.472218Z",
     "iopub.execute_input": "2023-12-11T10:59:51.472459Z",
     "iopub.status.idle": "2023-12-11T10:59:51.484541Z",
     "shell.execute_reply.started": "2023-12-11T10:59:51.472432Z",
     "shell.execute_reply": "2023-12-11T10:59:51.483788Z"
    },
    "trusted": true
   },
   "execution_count": 19,
   "outputs": []
  },
  {
   "cell_type": "code",
   "source": [
    "prompts = sources.merge(instructions, on='prompt_name', how='outer')"
   ],
   "metadata": {
    "id": "SLkLddjqNoKh",
    "execution": {
     "iopub.status.busy": "2023-12-11T10:59:51.485487Z",
     "iopub.execute_input": "2023-12-11T10:59:51.485738Z",
     "iopub.status.idle": "2023-12-11T10:59:51.496078Z",
     "shell.execute_reply.started": "2023-12-11T10:59:51.485711Z",
     "shell.execute_reply": "2023-12-11T10:59:51.495429Z"
    },
    "trusted": true
   },
   "execution_count": 20,
   "outputs": []
  },
  {
   "cell_type": "code",
   "source": [
    "prompts = prompts.fillna( '')"
   ],
   "metadata": {
    "execution": {
     "iopub.status.busy": "2023-12-11T10:59:51.497043Z",
     "iopub.execute_input": "2023-12-11T10:59:51.497677Z",
     "iopub.status.idle": "2023-12-11T10:59:51.505134Z",
     "shell.execute_reply.started": "2023-12-11T10:59:51.497643Z",
     "shell.execute_reply": "2023-12-11T10:59:51.504533Z"
    },
    "trusted": true
   },
   "execution_count": 21,
   "outputs": []
  },
  {
   "cell_type": "code",
   "source": [
    "prompts"
   ],
   "metadata": {
    "id": "94VZ-ZmnPIIm",
    "outputId": "7155831c-0a92-4eee-97df-ff5bb4b139f9",
    "execution": {
     "iopub.status.busy": "2023-12-11T10:59:51.505922Z",
     "iopub.execute_input": "2023-12-11T10:59:51.506189Z",
     "iopub.status.idle": "2023-12-11T10:59:51.519697Z",
     "shell.execute_reply.started": "2023-12-11T10:59:51.506149Z",
     "shell.execute_reply": "2023-12-11T10:59:51.519023Z"
    },
    "trusted": true
   },
   "execution_count": 22,
   "outputs": [
    {
     "execution_count": 22,
     "output_type": "execute_result",
     "data": {
      "text/plain": "                         prompt_name  \\\n0                    Car-free cities   \n1                    Car-free cities   \n2                    Car-free cities   \n3                    Car-free cities   \n4   Does the electoral college work?   \n5   Does the electoral college work?   \n6   Does the electoral college work?   \n7                    Exploring Venus   \n8                   The Face on Mars   \n9        Facial action coding system   \n10     \"A Cowboy Who Rode the Waves\"   \n11                   Driverless cars   \n\n                                         gpt4_summary  \\\n0   Vauban, an experimental district near Freiburg...   \n1   Paris faced severe pollution, prompting a part...   \n2   In Bogotá, Colombia, a successful \"Day Without...   \n3   President Obama's goals to reduce greenhouse g...   \n4   The Electoral College, established in the U.S....   \n5   The electoral college, a system where voters s...   \n6   The Electoral College, often criticized as an ...   \n7                                                       \n8   Twenty-five years ago, NASA's Viking 1 spacecr...   \n9                                                       \n10  In 1945, Luke Bomberger's life took an unexpec...   \n11                                                      \n\n                                           assignment  \n0   Write an explanatory essay to inform fellow ci...  \n1   Write an explanatory essay to inform fellow ci...  \n2   Write an explanatory essay to inform fellow ci...  \n3   Write an explanatory essay to inform fellow ci...  \n4   Write a letter to your state senator in which ...  \n5   Write a letter to your state senator in which ...  \n6   Write a letter to your state senator in which ...  \n7   In \"The Challenge of Exploring Venus,\" the aut...  \n8   You have read the article 'Unmasking the Face ...  \n9   In the article \"Making Mona Lisa Smile,\" the a...  \n10  You have just read the article, 'A Cowboy Who ...  \n11  In the article “Driverless Cars are Coming,” t...  ",
      "text/html": "<div>\n<style scoped>\n    .dataframe tbody tr th:only-of-type {\n        vertical-align: middle;\n    }\n\n    .dataframe tbody tr th {\n        vertical-align: top;\n    }\n\n    .dataframe thead th {\n        text-align: right;\n    }\n</style>\n<table border=\"1\" class=\"dataframe\">\n  <thead>\n    <tr style=\"text-align: right;\">\n      <th></th>\n      <th>prompt_name</th>\n      <th>gpt4_summary</th>\n      <th>assignment</th>\n    </tr>\n  </thead>\n  <tbody>\n    <tr>\n      <th>0</th>\n      <td>Car-free cities</td>\n      <td>Vauban, an experimental district near Freiburg...</td>\n      <td>Write an explanatory essay to inform fellow ci...</td>\n    </tr>\n    <tr>\n      <th>1</th>\n      <td>Car-free cities</td>\n      <td>Paris faced severe pollution, prompting a part...</td>\n      <td>Write an explanatory essay to inform fellow ci...</td>\n    </tr>\n    <tr>\n      <th>2</th>\n      <td>Car-free cities</td>\n      <td>In Bogotá, Colombia, a successful \"Day Without...</td>\n      <td>Write an explanatory essay to inform fellow ci...</td>\n    </tr>\n    <tr>\n      <th>3</th>\n      <td>Car-free cities</td>\n      <td>President Obama's goals to reduce greenhouse g...</td>\n      <td>Write an explanatory essay to inform fellow ci...</td>\n    </tr>\n    <tr>\n      <th>4</th>\n      <td>Does the electoral college work?</td>\n      <td>The Electoral College, established in the U.S....</td>\n      <td>Write a letter to your state senator in which ...</td>\n    </tr>\n    <tr>\n      <th>5</th>\n      <td>Does the electoral college work?</td>\n      <td>The electoral college, a system where voters s...</td>\n      <td>Write a letter to your state senator in which ...</td>\n    </tr>\n    <tr>\n      <th>6</th>\n      <td>Does the electoral college work?</td>\n      <td>The Electoral College, often criticized as an ...</td>\n      <td>Write a letter to your state senator in which ...</td>\n    </tr>\n    <tr>\n      <th>7</th>\n      <td>Exploring Venus</td>\n      <td></td>\n      <td>In \"The Challenge of Exploring Venus,\" the aut...</td>\n    </tr>\n    <tr>\n      <th>8</th>\n      <td>The Face on Mars</td>\n      <td>Twenty-five years ago, NASA's Viking 1 spacecr...</td>\n      <td>You have read the article 'Unmasking the Face ...</td>\n    </tr>\n    <tr>\n      <th>9</th>\n      <td>Facial action coding system</td>\n      <td></td>\n      <td>In the article \"Making Mona Lisa Smile,\" the a...</td>\n    </tr>\n    <tr>\n      <th>10</th>\n      <td>\"A Cowboy Who Rode the Waves\"</td>\n      <td>In 1945, Luke Bomberger's life took an unexpec...</td>\n      <td>You have just read the article, 'A Cowboy Who ...</td>\n    </tr>\n    <tr>\n      <th>11</th>\n      <td>Driverless cars</td>\n      <td></td>\n      <td>In the article “Driverless Cars are Coming,” t...</td>\n    </tr>\n  </tbody>\n</table>\n</div>"
     },
     "metadata": {}
    }
   ]
  },
  {
   "cell_type": "code",
   "source": [
    "from itertools import repeat\n",
    "\n",
    "prompts = concat([*repeat(prompts, 10)])"
   ],
   "metadata": {
    "execution": {
     "iopub.status.busy": "2023-12-11T10:59:51.520604Z",
     "iopub.execute_input": "2023-12-11T10:59:51.520855Z",
     "iopub.status.idle": "2023-12-11T10:59:51.530987Z",
     "shell.execute_reply.started": "2023-12-11T10:59:51.520827Z",
     "shell.execute_reply": "2023-12-11T10:59:51.530424Z"
    },
    "trusted": true
   },
   "execution_count": 23,
   "outputs": []
  },
  {
   "cell_type": "code",
   "source": [
    "prompts.iloc[0]"
   ],
   "metadata": {
    "execution": {
     "iopub.status.busy": "2023-12-11T10:59:51.531790Z",
     "iopub.execute_input": "2023-12-11T10:59:51.532014Z",
     "iopub.status.idle": "2023-12-11T10:59:51.542112Z",
     "shell.execute_reply.started": "2023-12-11T10:59:51.531990Z",
     "shell.execute_reply": "2023-12-11T10:59:51.541508Z"
    },
    "trusted": true
   },
   "execution_count": 24,
   "outputs": [
    {
     "execution_count": 24,
     "output_type": "execute_result",
     "data": {
      "text/plain": "prompt_name                                       Car-free cities\ngpt4_summary    Vauban, an experimental district near Freiburg...\nassignment      Write an explanatory essay to inform fellow ci...\nName: 0, dtype: object"
     },
     "metadata": {}
    }
   ]
  },
  {
   "cell_type": "code",
   "source": [
    "!pip install langchain"
   ],
   "metadata": {
    "execution": {
     "iopub.status.busy": "2023-12-11T10:59:51.542962Z",
     "iopub.execute_input": "2023-12-11T10:59:51.543243Z",
     "iopub.status.idle": "2023-12-11T11:00:05.627043Z",
     "shell.execute_reply.started": "2023-12-11T10:59:51.543208Z",
     "shell.execute_reply": "2023-12-11T11:00:05.626200Z"
    },
    "trusted": true
   },
   "execution_count": 25,
   "outputs": [
    {
     "name": "stdout",
     "text": "Collecting langchain\n  Downloading langchain-0.0.348-py3-none-any.whl (2.0 MB)\n\u001B[2K     \u001B[90m━━━━━━━━━━━━━━━━━━━━━━━━━━━━━━━━━━━━━━━━\u001B[0m \u001B[32m2.0/2.0 MB\u001B[0m \u001B[31m23.6 MB/s\u001B[0m eta \u001B[36m0:00:00\u001B[0m00:01\u001B[0m0:01\u001B[0m\n\u001B[?25hRequirement already satisfied: PyYAML>=5.3 in /usr/local/lib/python3.10/site-packages (from langchain) (6.0.1)\nRequirement already satisfied: tenacity<9.0.0,>=8.1.0 in /usr/local/lib/python3.10/site-packages (from langchain) (8.2.3)\nCollecting pydantic<3,>=1\n  Downloading pydantic-2.5.2-py3-none-any.whl (381 kB)\n\u001B[2K     \u001B[90m━━━━━━━━━━━━━━━━━━━━━━━━━━━━━━━━━━━━━━\u001B[0m \u001B[32m381.9/381.9 kB\u001B[0m \u001B[31m29.4 MB/s\u001B[0m eta \u001B[36m0:00:00\u001B[0m\n\u001B[?25hCollecting async-timeout<5.0.0,>=4.0.0\n  Downloading async_timeout-4.0.3-py3-none-any.whl (5.7 kB)\nCollecting langchain-core<0.1,>=0.0.12\n  Downloading langchain_core-0.0.12-py3-none-any.whl (181 kB)\n\u001B[2K     \u001B[90m━━━━━━━━━━━━━━━━━━━━━━━━━━━━━━━━━━━━━━\u001B[0m \u001B[32m181.5/181.5 kB\u001B[0m \u001B[31m16.7 MB/s\u001B[0m eta \u001B[36m0:00:00\u001B[0m\n\u001B[?25hRequirement already satisfied: numpy<2,>=1 in /usr/local/lib/python3.10/site-packages (from langchain) (1.26.1)\nRequirement already satisfied: requests<3,>=2 in /usr/local/lib/python3.10/site-packages (from langchain) (2.31.0)\nCollecting dataclasses-json<0.7,>=0.5.7\n  Downloading dataclasses_json-0.6.3-py3-none-any.whl (28 kB)\nCollecting SQLAlchemy<3,>=1.4\n  Downloading SQLAlchemy-2.0.23-cp310-cp310-manylinux_2_17_x86_64.manylinux2014_x86_64.whl (3.0 MB)\n\u001B[2K     \u001B[90m━━━━━━━━━━━━━━━━━━━━━━━━━━━━━━━━━━━━━━━━\u001B[0m \u001B[32m3.0/3.0 MB\u001B[0m \u001B[31m64.9 MB/s\u001B[0m eta \u001B[36m0:00:00\u001B[0m:00:01\u001B[0m\n\u001B[?25hCollecting langsmith<0.1.0,>=0.0.63\n  Downloading langsmith-0.0.69-py3-none-any.whl (48 kB)\n\u001B[2K     \u001B[90m━━━━━━━━━━━━━━━━━━━━━━━━━━━━━━━━━━━━━━━━\u001B[0m \u001B[32m48.2/48.2 kB\u001B[0m \u001B[31m4.8 MB/s\u001B[0m eta \u001B[36m0:00:00\u001B[0m\n\u001B[?25hCollecting jsonpatch<2.0,>=1.33\n  Downloading jsonpatch-1.33-py2.py3-none-any.whl (12 kB)\nCollecting aiohttp<4.0.0,>=3.8.3\n  Downloading aiohttp-3.9.1-cp310-cp310-manylinux_2_17_x86_64.manylinux2014_x86_64.whl (1.2 MB)\n\u001B[2K     \u001B[90m━━━━━━━━━━━━━━━━━━━━━━━━━━━━━━━━━━━━━━━━\u001B[0m \u001B[32m1.2/1.2 MB\u001B[0m \u001B[31m50.9 MB/s\u001B[0m eta \u001B[36m0:00:00\u001B[0m\n\u001B[?25hCollecting yarl<2.0,>=1.0\n  Downloading yarl-1.9.4-cp310-cp310-manylinux_2_17_x86_64.manylinux2014_x86_64.whl (301 kB)\n\u001B[2K     \u001B[90m━━━━━━━━━━━━━━━━━━━━━━━━━━━━━━━━━━━━━━\u001B[0m \u001B[32m301.6/301.6 kB\u001B[0m \u001B[31m23.0 MB/s\u001B[0m eta \u001B[36m0:00:00\u001B[0m\n\u001B[?25hRequirement already satisfied: attrs>=17.3.0 in /usr/local/lib/python3.10/site-packages (from aiohttp<4.0.0,>=3.8.3->langchain) (23.1.0)\nCollecting multidict<7.0,>=4.5\n  Downloading multidict-6.0.4-cp310-cp310-manylinux_2_17_x86_64.manylinux2014_x86_64.whl (114 kB)\n\u001B[2K     \u001B[90m━━━━━━━━━━━━━━━━━━━━━━━━━━━━━━━━━━━━━━\u001B[0m \u001B[32m114.5/114.5 kB\u001B[0m \u001B[31m10.2 MB/s\u001B[0m eta \u001B[36m0:00:00\u001B[0m\n\u001B[?25hCollecting aiosignal>=1.1.2\n  Downloading aiosignal-1.3.1-py3-none-any.whl (7.6 kB)\nCollecting frozenlist>=1.1.1\n  Downloading frozenlist-1.4.0-cp310-cp310-manylinux_2_5_x86_64.manylinux1_x86_64.manylinux_2_17_x86_64.manylinux2014_x86_64.whl (225 kB)\n\u001B[2K     \u001B[90m━━━━━━━━━━━━━━━━━━━━━━━━━━━━━━━━━━━━━━\u001B[0m \u001B[32m225.7/225.7 kB\u001B[0m \u001B[31m17.2 MB/s\u001B[0m eta \u001B[36m0:00:00\u001B[0m\n\u001B[?25hCollecting typing-inspect<1,>=0.4.0\n  Downloading typing_inspect-0.9.0-py3-none-any.whl (8.8 kB)\nCollecting marshmallow<4.0.0,>=3.18.0\n  Downloading marshmallow-3.20.1-py3-none-any.whl (49 kB)\n\u001B[2K     \u001B[90m━━━━━━━━━━━━━━━━━━━━━━━━━━━━━━━━━━━━━━━━\u001B[0m \u001B[32m49.4/49.4 kB\u001B[0m \u001B[31m4.2 MB/s\u001B[0m eta \u001B[36m0:00:00\u001B[0m\n\u001B[?25hRequirement already satisfied: jsonpointer>=1.9 in /usr/local/lib/python3.10/site-packages (from jsonpatch<2.0,>=1.33->langchain) (2.4)\nRequirement already satisfied: anyio<5,>=3 in /usr/local/lib/python3.10/site-packages (from langchain-core<0.1,>=0.0.12->langchain) (4.0.0)\nRequirement already satisfied: packaging<24.0,>=23.2 in /usr/local/lib/python3.10/site-packages (from langchain-core<0.1,>=0.0.12->langchain) (23.2)\nCollecting annotated-types>=0.4.0\n  Downloading annotated_types-0.6.0-py3-none-any.whl (12 kB)\nRequirement already satisfied: typing-extensions>=4.6.1 in /usr/local/lib/python3.10/site-packages (from pydantic<3,>=1->langchain) (4.8.0)\nCollecting pydantic-core==2.14.5\n  Downloading pydantic_core-2.14.5-cp310-cp310-manylinux_2_17_x86_64.manylinux2014_x86_64.whl (2.1 MB)\n\u001B[2K     \u001B[90m━━━━━━━━━━━━━━━━━━━━━━━━━━━━━━━━━━━━━━━━\u001B[0m \u001B[32m2.1/2.1 MB\u001B[0m \u001B[31m48.5 MB/s\u001B[0m eta \u001B[36m0:00:00\u001B[0m:00:01\u001B[0m\n\u001B[?25hRequirement already satisfied: urllib3<3,>=1.21.1 in /usr/local/lib/python3.10/site-packages (from requests<3,>=2->langchain) (2.0.7)\nRequirement already satisfied: idna<4,>=2.5 in /usr/local/lib/python3.10/site-packages (from requests<3,>=2->langchain) (3.4)\nRequirement already satisfied: charset-normalizer<4,>=2 in /usr/local/lib/python3.10/site-packages (from requests<3,>=2->langchain) (3.3.2)\nRequirement already satisfied: certifi>=2017.4.17 in /usr/local/lib/python3.10/site-packages (from requests<3,>=2->langchain) (2023.7.22)\nCollecting greenlet!=0.4.17\n  Downloading greenlet-3.0.2-cp310-cp310-manylinux_2_24_x86_64.manylinux_2_28_x86_64.whl (613 kB)\n\u001B[2K     \u001B[90m━━━━━━━━━━━━━━━━━━━━━━━━━━━━━━━━━━━━━━\u001B[0m \u001B[32m613.4/613.4 kB\u001B[0m \u001B[31m33.3 MB/s\u001B[0m eta \u001B[36m0:00:00\u001B[0m\n\u001B[?25hRequirement already satisfied: sniffio>=1.1 in /usr/local/lib/python3.10/site-packages (from anyio<5,>=3->langchain-core<0.1,>=0.0.12->langchain) (1.3.0)\nRequirement already satisfied: exceptiongroup>=1.0.2 in /usr/local/lib/python3.10/site-packages (from anyio<5,>=3->langchain-core<0.1,>=0.0.12->langchain) (1.1.3)\nCollecting mypy-extensions>=0.3.0\n  Downloading mypy_extensions-1.0.0-py3-none-any.whl (4.7 kB)\nInstalling collected packages: pydantic-core, mypy-extensions, multidict, marshmallow, jsonpatch, greenlet, frozenlist, async-timeout, annotated-types, yarl, typing-inspect, SQLAlchemy, pydantic, aiosignal, langsmith, dataclasses-json, aiohttp, langchain-core, langchain\nSuccessfully installed SQLAlchemy-2.0.23 aiohttp-3.9.1 aiosignal-1.3.1 annotated-types-0.6.0 async-timeout-4.0.3 dataclasses-json-0.6.3 frozenlist-1.4.0 greenlet-3.0.2 jsonpatch-1.33 langchain-0.0.348 langchain-core-0.0.12 langsmith-0.0.69 marshmallow-3.20.1 multidict-6.0.4 mypy-extensions-1.0.0 pydantic-2.5.2 pydantic-core-2.14.5 typing-inspect-0.9.0 yarl-1.9.4\n\u001B[33mWARNING: Running pip as the 'root' user can result in broken permissions and conflicting behaviour with the system package manager. It is recommended to use a virtual environment instead: https://pip.pypa.io/warnings/venv\u001B[0m\u001B[33m\n\u001B[0m\n\u001B[1m[\u001B[0m\u001B[34;49mnotice\u001B[0m\u001B[1;39;49m]\u001B[0m\u001B[39;49m A new release of pip is available: \u001B[0m\u001B[31;49m23.0.1\u001B[0m\u001B[39;49m -> \u001B[0m\u001B[32;49m23.3.1\u001B[0m\n\u001B[1m[\u001B[0m\u001B[34;49mnotice\u001B[0m\u001B[1;39;49m]\u001B[0m\u001B[39;49m To update, run: \u001B[0m\u001B[32;49mpip install --upgrade pip\u001B[0m\n",
     "output_type": "stream"
    }
   ]
  },
  {
   "cell_type": "markdown",
   "source": [
    "[Reference on using Mistral](https://www.kaggle.com/code/phanisrikanth/generate-synthetic-essays-with-mistral-7b-instruct)"
   ],
   "metadata": {}
  },
  {
   "cell_type": "code",
   "source": [
    "test = prompts.iloc[0]"
   ],
   "metadata": {
    "execution": {
     "iopub.status.busy": "2023-12-11T11:00:05.628467Z",
     "iopub.execute_input": "2023-12-11T11:00:05.628762Z",
     "iopub.status.idle": "2023-12-11T11:00:05.633206Z",
     "shell.execute_reply.started": "2023-12-11T11:00:05.628731Z",
     "shell.execute_reply": "2023-12-11T11:00:05.632672Z"
    },
    "trusted": true
   },
   "execution_count": 26,
   "outputs": []
  },
  {
   "cell_type": "code",
   "source": [
    "test.assignment"
   ],
   "metadata": {
    "execution": {
     "iopub.status.busy": "2023-12-11T11:00:05.634059Z",
     "iopub.execute_input": "2023-12-11T11:00:05.634290Z",
     "iopub.status.idle": "2023-12-11T11:00:05.648510Z",
     "shell.execute_reply.started": "2023-12-11T11:00:05.634266Z",
     "shell.execute_reply": "2023-12-11T11:00:05.647870Z"
    },
    "trusted": true
   },
   "execution_count": 27,
   "outputs": [
    {
     "execution_count": 27,
     "output_type": "execute_result",
     "data": {
      "text/plain": "'Write an explanatory essay to inform fellow citizens about the advantages of limiting car usage. Your essay must be based on ideas and information that can be found in the passage set. Manage your time carefully so that you can read the passages; plan your response; write your response; and revise and edit your response. Be sure to use evidence from multiple sources; and avoid overly relying on one source. Your response should be in the form of a multiparagraph essay. Write your essay in the space provided.'"
     },
     "metadata": {}
    }
   ]
  },
  {
   "cell_type": "code",
   "source": [
    "test.gpt4_summary"
   ],
   "metadata": {
    "execution": {
     "iopub.status.busy": "2023-12-11T11:00:05.649422Z",
     "iopub.execute_input": "2023-12-11T11:00:05.649669Z",
     "iopub.status.idle": "2023-12-11T11:00:05.665385Z",
     "shell.execute_reply.started": "2023-12-11T11:00:05.649642Z",
     "shell.execute_reply": "2023-12-11T11:00:05.664487Z"
    },
    "trusted": true
   },
   "execution_count": 28,
   "outputs": [
    {
     "execution_count": 28,
     "output_type": "execute_result",
     "data": {
      "text/plain": "\"Vauban, an experimental district near Freiburg, Germany, is pioneering suburban living without reliance on cars. Established in 2006, it prohibits street parking, driveways, and home garages, allowing car ownership but limiting parking to large garages on the development's edge, costing $40,000 per space. This innovative concept has led 70% of Vauban’s families to live without cars, with 57% selling their cars to move there. Emphasizing “smart planning,” Vauban is a model in reducing greenhouse gas emissions, a critical factor in combating global warming. The district, home to 5,500 residents, showcases how suburban areas can be more compact, accessible to public transportation, and less car-dependent. This approach aligns with efforts in the U.S. and Europe to develop suburbs that favor public transport and walking, with amenities within walking distance. However, despite these efforts, challenges remain in changing car-centric attitudes and adapting urban planning regulations to support such sustainable living models.\""
     },
     "metadata": {}
    }
   ]
  },
  {
   "cell_type": "code",
   "source": [
    "!pip install jax==0.4.19"
   ],
   "metadata": {
    "execution": {
     "iopub.status.busy": "2023-12-11T11:00:05.666347Z",
     "iopub.execute_input": "2023-12-11T11:00:05.666574Z",
     "iopub.status.idle": "2023-12-11T11:00:11.843256Z",
     "shell.execute_reply.started": "2023-12-11T11:00:05.666550Z",
     "shell.execute_reply": "2023-12-11T11:00:11.842218Z"
    },
    "trusted": true
   },
   "execution_count": 29,
   "outputs": [
    {
     "name": "stdout",
     "text": "Collecting jax==0.4.19\n  Downloading jax-0.4.19-py3-none-any.whl (1.7 MB)\n\u001B[2K     \u001B[90m━━━━━━━━━━━━━━━━━━━━━━━━━━━━━━━━━━━━━━━━\u001B[0m \u001B[32m1.7/1.7 MB\u001B[0m \u001B[31m21.1 MB/s\u001B[0m eta \u001B[36m0:00:00\u001B[0m00:01\u001B[0m0:01\u001B[0m\n\u001B[?25hRequirement already satisfied: opt-einsum in /usr/local/lib/python3.10/site-packages (from jax==0.4.19) (3.3.0)\nRequirement already satisfied: ml-dtypes>=0.2.0 in /usr/local/lib/python3.10/site-packages (from jax==0.4.19) (0.2.0)\nRequirement already satisfied: scipy>=1.9 in /usr/local/lib/python3.10/site-packages (from jax==0.4.19) (1.11.3)\nRequirement already satisfied: numpy>=1.22 in /usr/local/lib/python3.10/site-packages (from jax==0.4.19) (1.26.1)\nInstalling collected packages: jax\n  Attempting uninstall: jax\n    Found existing installation: jax 0.4.17\n    Uninstalling jax-0.4.17:\n      Successfully uninstalled jax-0.4.17\nSuccessfully installed jax-0.4.19\n\u001B[33mWARNING: Running pip as the 'root' user can result in broken permissions and conflicting behaviour with the system package manager. It is recommended to use a virtual environment instead: https://pip.pypa.io/warnings/venv\u001B[0m\u001B[33m\n\u001B[0m\n\u001B[1m[\u001B[0m\u001B[34;49mnotice\u001B[0m\u001B[1;39;49m]\u001B[0m\u001B[39;49m A new release of pip is available: \u001B[0m\u001B[31;49m23.0.1\u001B[0m\u001B[39;49m -> \u001B[0m\u001B[32;49m23.3.1\u001B[0m\n\u001B[1m[\u001B[0m\u001B[34;49mnotice\u001B[0m\u001B[1;39;49m]\u001B[0m\u001B[39;49m To update, run: \u001B[0m\u001B[32;49mpip install --upgrade pip\u001B[0m\n",
     "output_type": "stream"
    }
   ]
  },
  {
   "cell_type": "code",
   "source": [
    "!pip install ctransformers"
   ],
   "metadata": {
    "execution": {
     "iopub.status.busy": "2023-12-11T11:01:35.101433Z",
     "iopub.execute_input": "2023-12-11T11:01:35.101774Z",
     "iopub.status.idle": "2023-12-11T11:01:39.461276Z",
     "shell.execute_reply.started": "2023-12-11T11:01:35.101740Z",
     "shell.execute_reply": "2023-12-11T11:01:39.460335Z"
    },
    "trusted": true
   },
   "execution_count": 34,
   "outputs": [
    {
     "name": "stdout",
     "text": "Collecting ctransformers\n  Downloading ctransformers-0.2.27-py3-none-any.whl (9.9 MB)\n\u001B[2K     \u001B[90m━━━━━━━━━━━━━━━━━━━━━━━━━━━━━━━━━━━━━━━━\u001B[0m \u001B[32m9.9/9.9 MB\u001B[0m \u001B[31m50.1 MB/s\u001B[0m eta \u001B[36m0:00:00\u001B[0m00:01\u001B[0m00:01\u001B[0m\n\u001B[?25hCollecting py-cpuinfo<10.0.0,>=9.0.0\n  Downloading py_cpuinfo-9.0.0-py3-none-any.whl (22 kB)\nRequirement already satisfied: huggingface-hub in /usr/local/lib/python3.10/site-packages (from ctransformers) (0.17.3)\nRequirement already satisfied: pyyaml>=5.1 in /usr/local/lib/python3.10/site-packages (from huggingface-hub->ctransformers) (6.0.1)\nRequirement already satisfied: typing-extensions>=3.7.4.3 in /usr/local/lib/python3.10/site-packages (from huggingface-hub->ctransformers) (4.8.0)\nRequirement already satisfied: packaging>=20.9 in /usr/local/lib/python3.10/site-packages (from huggingface-hub->ctransformers) (23.2)\nRequirement already satisfied: fsspec in /usr/local/lib/python3.10/site-packages (from huggingface-hub->ctransformers) (2023.10.0)\nRequirement already satisfied: filelock in /usr/local/lib/python3.10/site-packages (from huggingface-hub->ctransformers) (3.13.1)\nRequirement already satisfied: requests in /usr/local/lib/python3.10/site-packages (from huggingface-hub->ctransformers) (2.31.0)\nRequirement already satisfied: tqdm>=4.42.1 in /usr/local/lib/python3.10/site-packages (from huggingface-hub->ctransformers) (4.66.1)\nRequirement already satisfied: charset-normalizer<4,>=2 in /usr/local/lib/python3.10/site-packages (from requests->huggingface-hub->ctransformers) (3.3.2)\nRequirement already satisfied: idna<4,>=2.5 in /usr/local/lib/python3.10/site-packages (from requests->huggingface-hub->ctransformers) (3.4)\nRequirement already satisfied: urllib3<3,>=1.21.1 in /usr/local/lib/python3.10/site-packages (from requests->huggingface-hub->ctransformers) (2.0.7)\nRequirement already satisfied: certifi>=2017.4.17 in /usr/local/lib/python3.10/site-packages (from requests->huggingface-hub->ctransformers) (2023.7.22)\nInstalling collected packages: py-cpuinfo, ctransformers\nSuccessfully installed ctransformers-0.2.27 py-cpuinfo-9.0.0\n\u001B[33mWARNING: Running pip as the 'root' user can result in broken permissions and conflicting behaviour with the system package manager. It is recommended to use a virtual environment instead: https://pip.pypa.io/warnings/venv\u001B[0m\u001B[33m\n\u001B[0m\n\u001B[1m[\u001B[0m\u001B[34;49mnotice\u001B[0m\u001B[1;39;49m]\u001B[0m\u001B[39;49m A new release of pip is available: \u001B[0m\u001B[31;49m23.0.1\u001B[0m\u001B[39;49m -> \u001B[0m\u001B[32;49m23.3.1\u001B[0m\n\u001B[1m[\u001B[0m\u001B[34;49mnotice\u001B[0m\u001B[1;39;49m]\u001B[0m\u001B[39;49m To update, run: \u001B[0m\u001B[32;49mpip install --upgrade pip\u001B[0m\n",
     "output_type": "stream"
    }
   ]
  },
  {
   "cell_type": "code",
   "source": [
    "from langchain.prompts import PromptTemplate\n",
    "from langchain.llms.huggingface_pipeline import HuggingFacePipeline\n",
    "from transformers import AutoModelForCausalLM, AutoTokenizer, pipeline\n",
    "from langchain.llms import CTransformers\n",
    "\n",
    "import torch\n",
    "import torch_xla.core.xla_model as xm\n",
    "from multiprocessing import Pool\n",
    "from pandas import DataFrame, Series\n",
    "\n",
    "\n",
    "def generate_essays(prompts):\n",
    "    model_path=\"/kaggle/input/mistral/pytorch/7b-instruct-v0.1-hf/1\"\n",
    "    device = xm.xla_device()\n",
    "    tokenizer = AutoTokenizer.from_pretrained(model_path)\n",
    "    pipe_kwargs = lambda : {\n",
    "        'max_new_tokens': 350, \n",
    "        'repetition_penalty': 1.1,\n",
    "        \"context_length\" : 768,\n",
    "        \"temperature\" : 0.9,\n",
    "        \"batch_size\": 8,\n",
    "    }\n",
    "    #pipe = pipeline(\"text-generation\", **pipe_kwargs())\n",
    "    #pipe.tokenizer.pad_token_id = pipe.model.config.eos_token_id\n",
    "    \n",
    "    hf = CTransformers(model=\"TheBloke/Mistral-7B-Instruct-v0.1-GGUF\", \n",
    "                       config=pipe_kwargs())\n",
    "    def generate_prompt(x : Series) -> str:\n",
    "        return {\n",
    "        \"question\": x.assignment,  \n",
    "        \"system\" : \"You are a student\", \n",
    "        \"instruction\" : \"Word limit minimum 512 words and maximum 3000 words. Refer to the summary provided for supplement context.\",\n",
    "        \"info\" : x.gpt4_summary\n",
    "    }\n",
    "    template = \"\"\"<s>\n",
    "    [INST] Your role\n",
    "    {system} \n",
    "    [/INST]\n",
    "    [INST] Your task: \n",
    "    {question} \n",
    "    [/INST]\n",
    "    [INST] Instructions\n",
    "    {instruction} \n",
    "    [/INST]\n",
    "    [INST] Reference Summary:\n",
    "    {info} \n",
    "    [/INST]\n",
    "    </s>\n",
    "    \"\"\"\n",
    "    prompt = PromptTemplate.from_template(template)\n",
    "    chain = prompts.apply(lambda x: generate_prompt(x), axis=1)\n",
    "    llm = prompt | hf\n",
    "    return Series(llm.batch(chain.values.tolist()))"
   ],
   "metadata": {
    "execution": {
     "iopub.status.busy": "2023-12-11T11:42:01.836412Z",
     "iopub.execute_input": "2023-12-11T11:42:01.836822Z",
     "iopub.status.idle": "2023-12-11T11:42:01.844722Z",
     "shell.execute_reply.started": "2023-12-11T11:42:01.836782Z",
     "shell.execute_reply": "2023-12-11T11:42:01.844034Z"
    },
    "trusted": true
   },
   "execution_count": 129,
   "outputs": []
  },
  {
   "cell_type": "code",
   "source": [
    "generated_dataset = generate_essays(prompts)"
   ],
   "metadata": {
    "execution": {
     "iopub.status.busy": "2023-12-11T11:42:01.845902Z",
     "iopub.execute_input": "2023-12-11T11:42:01.846129Z",
     "iopub.status.idle": "2023-12-11T11:47:07.532934Z",
     "shell.execute_reply.started": "2023-12-11T11:42:01.846104Z",
     "shell.execute_reply": "2023-12-11T11:47:07.531944Z"
    },
    "trusted": true
   },
   "execution_count": 130,
   "outputs": [
    {
     "name": "stderr",
     "text": "Fetching 1 files: 100%|██████████| 1/1 [00:00<00:00, 12409.18it/s]\nFetching 1 files: 100%|██████████| 1/1 [00:00<00:00, 14169.95it/s]\nWARNING:ctransformers:Number of tokens (769) exceeded maximum context length (768).\nWARNING:ctransformers:Number of tokens (770) exceeded maximum context length (768).\nWARNING:ctransformers:Number of tokens (771) exceeded maximum context length (768).\nWARNING:ctransformers:Number of tokens (772) exceeded maximum context length (768).\nWARNING:ctransformers:Number of tokens (773) exceeded maximum context length (768).\nWARNING:ctransformers:Number of tokens (774) exceeded maximum context length (768).\nWARNING:ctransformers:Number of tokens (775) exceeded maximum context length (768).\nWARNING:ctransformers:Number of tokens (776) exceeded maximum context length (768).\nWARNING:ctransformers:Number of tokens (777) exceeded maximum context length (768).\nWARNING:ctransformers:Number of tokens (778) exceeded maximum context length (768).\nWARNING:ctransformers:Number of tokens (779) exceeded maximum context length (768).\nWARNING:ctransformers:Number of tokens (780) exceeded maximum context length (768).\nWARNING:ctransformers:Number of tokens (781) exceeded maximum context length (768).\nWARNING:ctransformers:Number of tokens (782) exceeded maximum context length (768).\nWARNING:ctransformers:Number of tokens (783) exceeded maximum context length (768).\nWARNING:ctransformers:Number of tokens (784) exceeded maximum context length (768).\nWARNING:ctransformers:Number of tokens (785) exceeded maximum context length (768).\nWARNING:ctransformers:Number of tokens (786) exceeded maximum context length (768).\nWARNING:ctransformers:Number of tokens (787) exceeded maximum context length (768).\nWARNING:ctransformers:Number of tokens (788) exceeded maximum context length (768).\nWARNING:ctransformers:Number of tokens (789) exceeded maximum context length (768).\nWARNING:ctransformers:Number of tokens (790) exceeded maximum context length (768).\nWARNING:ctransformers:Number of tokens (791) exceeded maximum context length (768).\nWARNING:ctransformers:Number of tokens (792) exceeded maximum context length (768).\nWARNING:ctransformers:Number of tokens (793) exceeded maximum context length (768).\nWARNING:ctransformers:Number of tokens (794) exceeded maximum context length (768).\nWARNING:ctransformers:Number of tokens (795) exceeded maximum context length (768).\nWARNING:ctransformers:Number of tokens (796) exceeded maximum context length (768).\nWARNING:ctransformers:Number of tokens (797) exceeded maximum context length (768).\nWARNING:ctransformers:Number of tokens (798) exceeded maximum context length (768).\nWARNING:ctransformers:Number of tokens (799) exceeded maximum context length (768).\nWARNING:ctransformers:Number of tokens (800) exceeded maximum context length (768).\nWARNING:ctransformers:Number of tokens (801) exceeded maximum context length (768).\nWARNING:ctransformers:Number of tokens (802) exceeded maximum context length (768).\nWARNING:ctransformers:Number of tokens (769) exceeded maximum context length (768).\nWARNING:ctransformers:Number of tokens (770) exceeded maximum context length (768).\nWARNING:ctransformers:Number of tokens (771) exceeded maximum context length (768).\nWARNING:ctransformers:Number of tokens (772) exceeded maximum context length (768).\nWARNING:ctransformers:Number of tokens (773) exceeded maximum context length (768).\nWARNING:ctransformers:Number of tokens (774) exceeded maximum context length (768).\nWARNING:ctransformers:Number of tokens (775) exceeded maximum context length (768).\nWARNING:ctransformers:Number of tokens (776) exceeded maximum context length (768).\nWARNING:ctransformers:Number of tokens (777) exceeded maximum context length (768).\nWARNING:ctransformers:Number of tokens (778) exceeded maximum context length (768).\nWARNING:ctransformers:Number of tokens (779) exceeded maximum context length (768).\nWARNING:ctransformers:Number of tokens (780) exceeded maximum context length (768).\nWARNING:ctransformers:Number of tokens (781) exceeded maximum context length (768).\nWARNING:ctransformers:Number of tokens (782) exceeded maximum context length (768).\nWARNING:ctransformers:Number of tokens (783) exceeded maximum context length (768).\nWARNING:ctransformers:Number of tokens (784) exceeded maximum context length (768).\nWARNING:ctransformers:Number of tokens (785) exceeded maximum context length (768).\nWARNING:ctransformers:Number of tokens (786) exceeded maximum context length (768).\nWARNING:ctransformers:Number of tokens (787) exceeded maximum context length (768).\nWARNING:ctransformers:Number of tokens (788) exceeded maximum context length (768).\nWARNING:ctransformers:Number of tokens (789) exceeded maximum context length (768).\nWARNING:ctransformers:Number of tokens (790) exceeded maximum context length (768).\nWARNING:ctransformers:Number of tokens (791) exceeded maximum context length (768).\nWARNING:ctransformers:Number of tokens (792) exceeded maximum context length (768).\nWARNING:ctransformers:Number of tokens (793) exceeded maximum context length (768).\nWARNING:ctransformers:Number of tokens (794) exceeded maximum context length (768).\nWARNING:ctransformers:Number of tokens (795) exceeded maximum context length (768).\nWARNING:ctransformers:Number of tokens (796) exceeded maximum context length (768).\nWARNING:ctransformers:Number of tokens (797) exceeded maximum context length (768).\nWARNING:ctransformers:Number of tokens (798) exceeded maximum context length (768).\nWARNING:ctransformers:Number of tokens (799) exceeded maximum context length (768).\nWARNING:ctransformers:Number of tokens (800) exceeded maximum context length (768).\nWARNING:ctransformers:Number of tokens (801) exceeded maximum context length (768).\nWARNING:ctransformers:Number of tokens (802) exceeded maximum context length (768).\nWARNING:ctransformers:Number of tokens (803) exceeded maximum context length (768).\nWARNING:ctransformers:Number of tokens (804) exceeded maximum context length (768).\nWARNING:ctransformers:Number of tokens (805) exceeded maximum context length (768).\nWARNING:ctransformers:Number of tokens (806) exceeded maximum context length (768).\nWARNING:ctransformers:Number of tokens (807) exceeded maximum context length (768).\nWARNING:ctransformers:Number of tokens (808) exceeded maximum context length (768).\nWARNING:ctransformers:Number of tokens (809) exceeded maximum context length (768).\nWARNING:ctransformers:Number of tokens (810) exceeded maximum context length (768).\nWARNING:ctransformers:Number of tokens (811) exceeded maximum context length (768).\nWARNING:ctransformers:Number of tokens (812) exceeded maximum context length (768).\nWARNING:ctransformers:Number of tokens (813) exceeded maximum context length (768).\nWARNING:ctransformers:Number of tokens (814) exceeded maximum context length (768).\nWARNING:ctransformers:Number of tokens (815) exceeded maximum context length (768).\nWARNING:ctransformers:Number of tokens (816) exceeded maximum context length (768).\nWARNING:ctransformers:Number of tokens (817) exceeded maximum context length (768).\nWARNING:ctransformers:Number of tokens (818) exceeded maximum context length (768).\nWARNING:ctransformers:Number of tokens (819) exceeded maximum context length (768).\nWARNING:ctransformers:Number of tokens (820) exceeded maximum context length (768).\nWARNING:ctransformers:Number of tokens (821) exceeded maximum context length (768).\nWARNING:ctransformers:Number of tokens (822) exceeded maximum context length (768).\nWARNING:ctransformers:Number of tokens (823) exceeded maximum context length (768).\nWARNING:ctransformers:Number of tokens (824) exceeded maximum context length (768).\nWARNING:ctransformers:Number of tokens (825) exceeded maximum context length (768).\nWARNING:ctransformers:Number of tokens (826) exceeded maximum context length (768).\nWARNING:ctransformers:Number of tokens (827) exceeded maximum context length (768).\nWARNING:ctransformers:Number of tokens (769) exceeded maximum context length (768).\nWARNING:ctransformers:Number of tokens (770) exceeded maximum context length (768).\nWARNING:ctransformers:Number of tokens (771) exceeded maximum context length (768).\nWARNING:ctransformers:Number of tokens (772) exceeded maximum context length (768).\nWARNING:ctransformers:Number of tokens (773) exceeded maximum context length (768).\nWARNING:ctransformers:Number of tokens (774) exceeded maximum context length (768).\nWARNING:ctransformers:Number of tokens (775) exceeded maximum context length (768).\nWARNING:ctransformers:Number of tokens (776) exceeded maximum context length (768).\nWARNING:ctransformers:Number of tokens (777) exceeded maximum context length (768).\nWARNING:ctransformers:Number of tokens (778) exceeded maximum context length (768).\nWARNING:ctransformers:Number of tokens (779) exceeded maximum context length (768).\nWARNING:ctransformers:Number of tokens (780) exceeded maximum context length (768).\nWARNING:ctransformers:Number of tokens (781) exceeded maximum context length (768).\nWARNING:ctransformers:Number of tokens (782) exceeded maximum context length (768).\nWARNING:ctransformers:Number of tokens (783) exceeded maximum context length (768).\nWARNING:ctransformers:Number of tokens (784) exceeded maximum context length (768).\nWARNING:ctransformers:Number of tokens (785) exceeded maximum context length (768).\nWARNING:ctransformers:Number of tokens (769) exceeded maximum context length (768).\nWARNING:ctransformers:Number of tokens (770) exceeded maximum context length (768).\nWARNING:ctransformers:Number of tokens (771) exceeded maximum context length (768).\nWARNING:ctransformers:Number of tokens (772) exceeded maximum context length (768).\nWARNING:ctransformers:Number of tokens (773) exceeded maximum context length (768).\nWARNING:ctransformers:Number of tokens (774) exceeded maximum context length (768).\nWARNING:ctransformers:Number of tokens (775) exceeded maximum context length (768).\nWARNING:ctransformers:Number of tokens (776) exceeded maximum context length (768).\nWARNING:ctransformers:Number of tokens (777) exceeded maximum context length (768).\nWARNING:ctransformers:Number of tokens (778) exceeded maximum context length (768).\nWARNING:ctransformers:Number of tokens (779) exceeded maximum context length (768).\nWARNING:ctransformers:Number of tokens (780) exceeded maximum context length (768).\nWARNING:ctransformers:Number of tokens (781) exceeded maximum context length (768).\nWARNING:ctransformers:Number of tokens (782) exceeded maximum context length (768).\nWARNING:ctransformers:Number of tokens (783) exceeded maximum context length (768).\nWARNING:ctransformers:Number of tokens (784) exceeded maximum context length (768).\nWARNING:ctransformers:Number of tokens (785) exceeded maximum context length (768).\nWARNING:ctransformers:Number of tokens (786) exceeded maximum context length (768).\nWARNING:ctransformers:Number of tokens (787) exceeded maximum context length (768).\nWARNING:ctransformers:Number of tokens (788) exceeded maximum context length (768).\nWARNING:ctransformers:Number of tokens (789) exceeded maximum context length (768).\nWARNING:ctransformers:Number of tokens (790) exceeded maximum context length (768).\n",
     "output_type": "stream"
    }
   ]
  },
  {
   "cell_type": "code",
   "source": [
    "#~5 min -> 8 essays \n",
    "print(generated_dataset.iloc[-1])"
   ],
   "metadata": {
    "execution": {
     "iopub.status.busy": "2023-12-11T11:47:07.534135Z",
     "iopub.execute_input": "2023-12-11T11:47:07.534431Z",
     "iopub.status.idle": "2023-12-11T11:47:07.539108Z",
     "shell.execute_reply.started": "2023-12-11T11:47:07.534403Z",
     "shell.execute_reply": "2023-12-11T11:47:07.538376Z"
    },
    "trusted": true
   },
   "execution_count": 131,
   "outputs": [
    {
     "name": "stdout",
     "text": "\n    The article \"The Challenge of Exploring Venus\" discusses the challenges and potential benefits of studying Venus, a planet in our solar system that is similar to Earth in many ways. The author argues that despite the dangers of exploring Venus, it is still a worthy pursuit because it could lead to scientific breakthroughs and an understanding of our own planet's history and future.\n    The article provides several examples of why studying Venus is important. Firstly, the author notes that Venus has a similar atmosphere to Earth, with clouds and temperatures that are similar to those on Earth. This makes it a potential model for understanding how Earth's climate has evolved over time and could also help us predict how our own planet might change in the future. Secondly, the author argues that studying Venus could lead to breakthroughs in fields such as space exploration and astronomy. For example, studying Venus could help us understand more about the formation of planets and the conditions necessary for life to exist. Finally, the author notes that studying Venus could also help us better understand our own planet's place in the universe. By studying Venus, we can learn more about our planet's geological past and future, as well as its place in the cosmos.\n    Despite these potential benefits, the article acknowledges that there are significant challenges to exploring Venus. The planet is extremely close to the Sun and is therefore subject to extreme temperatures and radiation. Additionally, Venus has a thick atmosphere that traps heat and makes it difficult for spacecraft to survive. These challenges make it clear that studying Venus would be a dangerous and expensive endeavor.\n    In conclusion, the\n",
     "output_type": "stream"
    }
   ]
  },
  {
   "cell_type": "code",
   "source": [
    "generated_dataset.to_csv('/kaggle/working/generated_dataset.csv')"
   ],
   "metadata": {
    "execution": {
     "iopub.status.busy": "2023-12-11T11:47:07.540604Z",
     "iopub.execute_input": "2023-12-11T11:47:07.540846Z",
     "iopub.status.idle": "2023-12-11T11:47:07.551366Z",
     "shell.execute_reply.started": "2023-12-11T11:47:07.540821Z",
     "shell.execute_reply": "2023-12-11T11:47:07.550645Z"
    },
    "trusted": true
   },
   "execution_count": 132,
   "outputs": []
  }
 ]
}
